{
 "cells": [
  {
   "cell_type": "code",
   "execution_count": 40,
   "metadata": {},
   "outputs": [],
   "source": [
    "import requests\n",
    "from bs4 import BeautifulSoup\n",
    "\n",
    "import numpy as np\n",
    "\n",
    "import pandas as pd\n",
    "\n",
    "import re\n",
    "\n",
    "import time\n",
    "\n",
    "import tqdm\n",
    "import threading\n",
    "\n",
    "from sklearn.feature_extraction.text import CountVectorizer\n",
    "from sklearn.model_selection import train_test_split, GridSearchCV\n",
    "from sklearn.linear_model import LogisticRegression, SGDClassifier\n",
    "from sklearn.pipeline import Pipeline\n",
    "from sklearn.naive_bayes import MultinomialNB\n",
    "from sklearn.metrics import accuracy_score\n",
    "\n",
    "# if set to true the lyrics are extracted again and csv files\n",
    "# are refreshed with the extracted lyrics\n",
    "g_refresh_lyrics = False\n",
    "\n",
    "def extract_lyrics_from_url(url, songs, i):\n",
    "\n",
    "    # time.sleep(10)\n",
    "    print(\"Extrating from \", url)\n",
    "    soup = BeautifulSoup(requests.get(url).text)\n",
    "    lyrics = \"\"\n",
    "    lyrics_tag = soup.find('pre', attrs={'id' : 'lyric-body-text'})\n",
    "    if lyrics_tag :\n",
    "        for child in lyrics_tag.children:\n",
    "            lyrics += child.text\n",
    "    songs[i] = lyrics\n",
    "\n",
    "\n",
    "def extract_songs(artist):\n",
    "    artist_url = 'https://www.lyrics.com/artist/' + artist\n",
    "    artist_html = requests.get(artist_url).text\n",
    "\n",
    "    soup = BeautifulSoup(artist_html)\n",
    "    songs = dict()\n",
    "    square_bracket_pattern = ' [\\[].*[\\]]'\n",
    "    link_constant = 'https://www.lyrics.com/'\n",
    "    # for song in soup.find_all('strong'):\n",
    "    for song in soup.find_all('td', attrs={'class':'tal qx'}):\n",
    "        a = song.find('strong').find('a')\n",
    "        if a and not (re.findall(square_bracket_pattern, a.text)) :\n",
    "            songs[a.text.lower()] = link_constant + a.get('href')\n",
    "    songs_df = pd.DataFrame(columns=[\"Title\", \"Link\"])\n",
    "    songs_df['Title'] = songs.keys()\n",
    "    songs_df['Link'] = songs.values()\n",
    "\n",
    "    # each thread extracts lyrics from each url\n",
    "    all_lyrics = [None] * songs_df['Link'].shape[0]\n",
    "    threads = []\n",
    "    for index, url in enumerate(songs_df['Link'].values) :\n",
    "        t = threading.Thread(target=extract_lyrics_from_url, args=[url,all_lyrics,index])\n",
    "        t.start()\n",
    "        threads.append(t)\n",
    "\n",
    "    for thread in threads:\n",
    "        thread.join()\n",
    "\n",
    "    songs_df[\"Lyrics\"] = all_lyrics\n",
    "\n",
    "    return songs_df\n",
    "\n",
    "def print_hypermaters_search_results(results):\n",
    "    print('BEST MODEL PARAMETERS: {}\\n'.format(results.best_params_))\n",
    "    means = results.cv_results_['mean_test_score']\n",
    "    for mean, params in zip(means, results.cv_results_['params']):\n",
    "        print('{}  for {}'.format(round(mean, 4), params))"
   ]
  },
  {
   "cell_type": "code",
   "execution_count": 41,
   "metadata": {},
   "outputs": [],
   "source": [
    "if g_refresh_lyrics :\n",
    "    imagine_dragons_df = extract_songs('Imagine-Dragons')\n",
    "    imagine_dragons_df.to_csv(\"../data/imagine_dragons_songs.csv\")\n",
    "\n",
    "    linkin_park_df = extract_songs('Linkin-Park')\n",
    "    linkin_park_df.to_csv(\"../data/linkin_park_songs.csv\")\n",
    "else :\n",
    "    imagine_dragons_df = pd.read_csv(\"../data/imagine_dragons_songs.csv\")\n",
    "    linkin_park_df = pd.read_csv(\"../data/linkin_park_songs.csv\")"
   ]
  },
  {
   "cell_type": "code",
   "execution_count": 42,
   "metadata": {},
   "outputs": [],
   "source": [
    "# Create the lyrics data base\n",
    "df = pd.concat([imagine_dragons_df,linkin_park_df])\n",
    "# X = df[[\"Lyrics\"]]\n",
    "\n",
    "# convert the lyrics column type to string otherwise it is considered\n",
    "# as float\n",
    "df = df.assign(Lyrics = df[\"Lyrics\"].astype(str))\n",
    "# remove all the \\r from the lyrics\n",
    "X = df['Lyrics'].apply(lambda x : x.replace(\"\\r\", \"\"))\n",
    "\n",
    "# create targets\n",
    "y_true = pd.Series([1] * imagine_dragons_df.shape[0] + [0] * linkin_park_df.shape[0])\n"
   ]
  },
  {
   "cell_type": "code",
   "execution_count": 43,
   "metadata": {},
   "outputs": [],
   "source": [
    "\n",
    "\n",
    "X_train, X_test, y_train, y_test = train_test_split(X, y_true, random_state=42)\n"
   ]
  },
  {
   "cell_type": "code",
   "execution_count": 44,
   "metadata": {},
   "outputs": [
    {
     "data": {
      "text/plain": [
       "0.8307692307692308"
      ]
     },
     "execution_count": 44,
     "metadata": {},
     "output_type": "execute_result"
    }
   ],
   "source": [
    "\n",
    "vectorizer = CountVectorizer(lowercase=True, stop_words='english', token_pattern='[A-Za-z]+', ngram_range=(1,1))\n",
    "\n",
    "nb_classifying_pipeline = Pipeline([\n",
    "    ('vect', CountVectorizer(lowercase=True, stop_words='english', token_pattern='[A-Za-z]+', ngram_range=(1,1))),\n",
    "    ('model', MultinomialNB())])\n",
    "\n",
    "\n",
    "nb_classifying_pipeline.fit(X_train, y_train)\n",
    "y_pred = nb_classifying_pipeline.predict(X_test)\n",
    "accuracy_score(y_test, y_pred)\n"
   ]
  },
  {
   "cell_type": "code",
   "execution_count": 45,
   "metadata": {},
   "outputs": [],
   "source": [
    "sgd_classifying_pipeline = Pipeline([\n",
    "    ('vect', CountVectorizer(lowercase=True, stop_words='english', token_pattern='[A-Za-z]+', ngram_range=(1,1))),\n",
    "    ('clf', SGDClassifier(loss='hinge', penalty='l2',alpha=1e-3, random_state=42, max_iter=5, tol=None))])\n",
    "\n",
    "# sgd_classifying_pipeline.fit(X_train, y_train)\n",
    "# y_pred = sgd_classifying_pipeline.predict(X_test)\n",
    "# accuracy_score(y_test, y_pred)"
   ]
  },
  {
   "cell_type": "code",
   "execution_count": 46,
   "metadata": {},
   "outputs": [
    {
     "name": "stdout",
     "output_type": "stream",
     "text": [
      "BEST MODEL PARAMETERS: {'clf__alpha': 0.001, 'vect__ngram_range': (1, 2)}\n",
      "\n",
      "0.7217  for {'clf__alpha': 0.01, 'vect__ngram_range': (1, 1)}\n",
      "0.7677  for {'clf__alpha': 0.01, 'vect__ngram_range': (1, 2)}\n",
      "0.7424  for {'clf__alpha': 0.001, 'vect__ngram_range': (1, 1)}\n",
      "0.7729  for {'clf__alpha': 0.001, 'vect__ngram_range': (1, 2)}\n"
     ]
    }
   ],
   "source": [
    "sgd_parameters = {'vect__ngram_range': [(1, 1), (1, 2)],\n",
    "'clf__alpha': (1e-2, 1e-3) }\n",
    "\n",
    "sgd_grid_search_clf = GridSearchCV(sgd_classifying_pipeline, sgd_parameters, cv=5, n_jobs=-1, scoring='accuracy')\n",
    "\n",
    "sgd_grid_search_clf.fit(X_train, y_train)\n",
    "\n",
    "print_hypermaters_search_results(sgd_grid_search_clf)"
   ]
  },
  {
   "cell_type": "code",
   "execution_count": 47,
   "metadata": {},
   "outputs": [
    {
     "data": {
      "text/plain": [
       "0.8615384615384616"
      ]
     },
     "execution_count": 47,
     "metadata": {},
     "output_type": "execute_result"
    }
   ],
   "source": [
    "\n",
    "y_pred = sgd_grid_search_clf.predict(X_test)\n",
    "accuracy_score(y_test, y_pred)"
   ]
  }
 ],
 "metadata": {
  "interpreter": {
   "hash": "bd6591a392eca1367e66f84bf2a307538250480f562075373405c68ebbb4555d"
  },
  "kernelspec": {
   "display_name": "Python 3.9.7 64-bit ('base': conda)",
   "language": "python",
   "name": "python3"
  },
  "language_info": {
   "codemirror_mode": {
    "name": "ipython",
    "version": 3
   },
   "file_extension": ".py",
   "mimetype": "text/x-python",
   "name": "python",
   "nbconvert_exporter": "python",
   "pygments_lexer": "ipython3",
   "version": "3.9.7"
  },
  "orig_nbformat": 4
 },
 "nbformat": 4,
 "nbformat_minor": 2
}
